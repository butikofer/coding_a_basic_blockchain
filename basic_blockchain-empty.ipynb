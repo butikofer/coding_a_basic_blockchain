{
 "cells": [
  {
   "cell_type": "markdown",
   "metadata": {},
   "source": [
    "# Coding A Basic Blockchain\n",
    "## Josh Butikofer - Adobe (@jbutikofer)"
   ]
  },
  {
   "cell_type": "markdown",
   "metadata": {},
   "source": [
    "**DISCLAIMER:** _All opinions, ideas, and code expressed here are my own._\n",
    "\n",
    "This is a live coding tutorial that will step you through the basic steps of building a _very_ basic blockchain written in Python. It was originally presented as a Live Coding Session at OSCON 2018 in Portland, OR. This notebook requires Python 3.7 or greater. See the accompanying `Pipfile` file for other dependencies.\n",
    "\n",
    "## Definitions\n",
    "\n",
    "Although there are several slightly different definitions for what constitutes a blockchain, this tutorial assumes the Wikipedia definition. Paraphrased from Wikipedia: A blockchain is composed of blocks that are cryptographically linked together to form a long chain. Because each block has a cryptographic hash of the previous block we can easily verify that the chain is immutable. Blocks also contain transactions and a timestamp. The transactions record some transfer of value between parties and typically use public-key cryptography to verify the transactions' integrity. Because value transfer by way of transactions is a major use case of blockchains, they are often called \"distributed ledgers.\" (I like this moniker better than blockchain.) \n",
    "\n",
    "Blockchains derive a lot of their advantage by being decentralized in a peer-to-peer network. Because of this there needs to be a decentralized consensus algorithm so all the peers can agree on the current state of the chain that is distributed among them.\n",
    "\n",
    "Put another way, a blockchain is a database that represents a ledger and has some of the following key characteristics:\n",
    "\n",
    "* Cryptographically verifiable and auditable\n",
    "* Immutable\n",
    "* Implements a decentralized consensus algorithm\n",
    "* Uses a peer-to-peer network to achieve decentralization\n",
    "\n",
    "## Underlying Technology\n",
    "\n",
    "An interesting observation is that the individual technologies used in blockchain are not new. The novelty of blockchain was was the combination of this technology to solve the problems inherent in digital cash systems--_without the need for a central authority._\n",
    "\n",
    "Our basic blockchain will use the same cryptographic tech that mainstream ones do: hashing and public-key signatures. We will also use one of the most popular decentralized consensus algorithms, \"Proof-of-Work\", to show how blocks are made and shared in a distributed ledger."
   ]
  },
  {
   "cell_type": "markdown",
   "metadata": {},
   "source": [
    "## The Nuts and Bolts\n",
    "\n",
    "Most blockchains are built from  a core set of nuts and bolts.\n",
    "\n",
    "A blockchain has:\n",
    "\n",
    "* **Transactions**: These are the entries in the ledger. In our example these will describe how user X wants to send some tokens to user Y. Transactions are cryptographically signed by user X to prove that they authorize the transfer of tokens.\n",
    "\n",
    "* **Blocks**: Transactions are bundled up together into a block. Depending on the blockchain, there can be hundreds or thousands of transactions in a block. The transactions are validated and then the block includes the previous block's hash, linking itself to the previous block. There is also a process called \"mining\" or \"forging\" that proves to the network of blockchain participants that this block's creation can be trusted.\n",
    "\n",
    "* **Blockchain**: All successfully mined blocks are strung together in a big, verifiable, and immutable chain. This is the system of record--the distributed ledger.\n",
    "\n",
    "* **Nodes**: Computers around the world that participate in the distributed ledger network and are called \"nodes.\" They often have a full copy of the chain and are responsible for accepting transactions, making new blocks, and updating the blockchain. They communicate via the other nodes in a P2P fashion. The decentralized consensus algorithm becomes critical here to help all nodes agree on what is the definitive chain since each node is working to grow the chain. *In our simple example, we will only have one node!*\n"
   ]
  },
  {
   "cell_type": "markdown",
   "metadata": {},
   "source": [
    "# Enough talk--let's get coding!\n",
    "\n",
    "## Transactions\n",
    "\n",
    "First we will implement a **Transaction**. Transactions need to have:\n",
    "\n",
    "* Sender address\n",
    "* Recipient address\n",
    "* Some payload--in our case this will be the amount of \"tokens\" that are being transferred.\n",
    "\n",
    "**Another CRITICAL rule that satisifies one of the core tenets of blockchain: transactions need to be cryptographically signed. This verifies that the sender really wants to send tokens and someone is not stealing them!**"
   ]
  },
  {
   "cell_type": "code",
   "execution_count": null,
   "metadata": {},
   "outputs": [],
   "source": [
    "# We will be using some of the niceties of Python 3.7 and a helpful crypto library to help with public-key signing\n",
    "from dataclasses import dataclass, field\n",
    "from typing import *\n",
    "import rsa # Don't implement your own\n",
    "import hashlib\n",
    "import time"
   ]
  },
  {
   "cell_type": "code",
   "execution_count": null,
   "metadata": {},
   "outputs": [],
   "source": [
    "@dataclass  # New Python 3.7 feature!\n",
    "class Transaction:\n",
    "    # sender_address\n",
    "    # recipient_address\n",
    "    # value\n",
    "    # signature (empty by default)\n",
    "       \n",
    "    def sign(self, sender_private_key):\n",
    "        \"\"\"Takes a private key, which the sender should never share, and signs this transaction to verify\n",
    "        they want to transfer the tokens. We sign the core attributes of the transaction using the private\n",
    "        key. We will use SHA-256 as the signature hashing algorithm.\"\"\"\n",
    "        \n",
    "        # TODO: sign and then validate to make sure the signature is valid\n",
    "        \n",
    "    def get_header(self):\n",
    "        \"\"\"Provides the core info needed to sign the transaction--basically everything BUT the\n",
    "        signature.\"\"\"\n",
    "        \n",
    "    def validate(self):\n",
    "        \"\"\"Validates the integrity of this transaction by using RSA to verify it is signed properly.\n",
    "        Gets the core data about the transaction, and the signature made using the private key,\n",
    "        and uses the public key to validate it is signed. The public key is the sender_address.\"\"\"\n",
    "    \n"
   ]
  },
  {
   "cell_type": "markdown",
   "metadata": {},
   "source": [
    "## Blocks\n",
    "\n",
    "Now that we have transactions figured out (we think) we can focus on **Blocks**. Blocks needs to have:\n",
    "\n",
    "* Block number (to make it easy to identify them)\n",
    "* Timestamp\n",
    "* A list of transactions included in the block\n",
    "* The hash of the previous block in the chain (this is important for immutability)\n",
    "* A hash of this block (again, to help enforce immutability)\n",
    "* Nonce (this is used to help implement the distributed trust consensus algorithm)\n",
    "\n",
    "The most important thing about a block is we must be able to tell if someone has changed the block and must prove that its addition to the chain is valid, hence the cryptographic hashing."
   ]
  },
  {
   "cell_type": "code",
   "execution_count": null,
   "metadata": {},
   "outputs": [],
   "source": [
    "@dataclass\n",
    "class Block:\n",
    "    # num\n",
    "    # timestamp\n",
    "    # prev_block_hash\n",
    "    # transactions\n",
    "    # block_hash - default to empty\n",
    "    # nonce - default to 0\n",
    "      \n",
    "    def hash(self) -> str:\n",
    "        \"\"\"Uses SHA-256 to hash the header of the block (the core attributes of the block).\n",
    "        Saves the hash to the block object for later use and also returns the hash in hex format.\"\"\"\n",
    "    \n",
    "    def get_header(self) -> bytes:\n",
    "        \"\"\"Returns a string that represents the core attributes that uniquely identify the block AND link\n",
    "        it to the previous block (forming the chain). These attributes include: block num, timestamp,\n",
    "        previous block hash, transactions (real chains use a Merkle root hash for efficiency), and a nonce.\"\"\"        \n",
    "    \n",
    "    def validate(self, proof_of_work_func) -> bool:\n",
    "        \"\"\"Using the given function, ensure that this block hashes correctly, adhering to the agreed-upon\n",
    "        consensus algorithm.\"\"\""
   ]
  },
  {
   "cell_type": "markdown",
   "metadata": {},
   "source": [
    "## Blockchain Node\n",
    "\n",
    "Now that we have Transactions and Blocks, we need to have an object to hold the chain and put them all together! We will implement some code that acts as a \"node\" on the blockchain to accept transactions, mine blocks, and validate things.\n",
    "\n",
    "A **Blockchain Node** needs to have the following:\n",
    "\n",
    "* An address for it to receive reward tokens for mining new blocks!\n",
    "* A authoritative list of blocks in the chain\n",
    "* A way to receive new transactions (and validate them)\n",
    "* A way to mine new blocks, thereby adding transactions into the chain\n",
    "* A way to validate the chain, to prove that it adheres to the requirements of a distributed ledger and can be trusted\n",
    "\n",
    "Let's do it!"
   ]
  },
  {
   "cell_type": "code",
   "execution_count": null,
   "metadata": {},
   "outputs": [],
   "source": [
    "REWARD_AMOUNT = 2.0\n",
    "\n",
    "class BlockchainNode:    \n",
    "    \n",
    "    def __init__(self, miner_address):\n",
    "        # miner_address\n",
    "        # blocks\n",
    "        # pending_transactions\n",
    "        # proof_of_work_func\n",
    "        pass\n",
    "      \n",
    "    def submit_transaction(self, transaction):        \n",
    "        \"\"\"This is used to submit a new transaction to the chain. End-users send transactions and aren't\n",
    "        concerned about the blocks, per se. This function takes a signed transaction will validate it is\n",
    "        cryptographically sound. It will then need to check that there is sufficient balance to make the\n",
    "        transfer. If these are good, we will add the transaction to a list of those that will be considered\n",
    "        when the next block is mined.\"\"\"\n",
    "        \n",
    "        # TODO: Ensure the transaction is properly signed by the private key\n",
    "        \n",
    "        # TODO: Make sure the funds exist for the requested transaction        \n",
    "     \n",
    "        # TODO: Transaction checks out--add to the list of our pending transactions!\n",
    "        \n",
    "    def mine_block(self):\n",
    "        \"\"\"This function bundles all pending transactions and mines a new block. Mining is the process\n",
    "        by which a node creates a new block. This is where the decentralized consensus algorithm comes in.\n",
    "        We will be using a proof-of-work algorithm that is computationally expensive. This prevents bad actor\n",
    "        nodes from flooding the P2P network with invalid transactions, blocks, or chains. It is too expensive to\n",
    "        rewrite history, making the blockchain more secure from these kinds of attacks. This function will mine\n",
    "        the new block and then append it to the chain automatically.\n",
    "        \n",
    "        Nodes that successfully mine a new block get a token award. This is how new tokens show up in the chain\n",
    "        and this is supposed to incentivize more peers on the network.\n",
    "        \"\"\"\n",
    "        \n",
    "        # TODO: Make sure we have a genesis block to start the chain\n",
    "        \n",
    "        # TODO: Get the previous block in the chain and use its number and hash to incorporate into the new block.\n",
    "        \n",
    "        # TODO: Add a reward transaction at the end of the block for this node\n",
    "        \n",
    "        # TODO: Execute proof-of-work\n",
    "        \n",
    "        # TODO: Add the block to the chain\n",
    "        \n",
    "        # TODO: Reset our pending transactions\n",
    "        \n",
    "        # TODO: add a mine_block to the __init__ function to get our genesis block!\n",
    "        \n",
    "        # TODO: Print out success\n",
    "        \n",
    "        \n",
    "    def execute_pow(self, block):\n",
    "        \"\"\"Using the defined proof-of-work lambda, increment the nonce on the block until\n",
    "        we satisfy the lambda's assertion. Since this iterating and hashing can take a long\n",
    "        time and a lot of CPU, it can become computationally intensive. When this function returns\n",
    "        the block will have a nonce and hash that meet the consensus algorithm requirements and can\n",
    "        be very easily checked.\"\"\"\n",
    "        \n",
    "    def validate_chain(self):\n",
    "        \"\"\"Verifies that this chain is cryptographically sound and has not been modified. Also ensures\n",
    "        that all blocks meet the conensus algorithm requirements. This function is MUCH faster than mining\n",
    "        new blocks: this is why the proof-of-work algorithm works well. Verification is very fast, but mining new\n",
    "        blocks is difficult.\"\"\"\n",
    "        \n",
    "        # TODO: Cycle through each block and compare previous block hashes and verify proof-of-work compliance.\n",
    "        \n",
    "        # TODO: print out success!\n",
    "        \n",
    "    def get_balance(self, address):\n",
    "        \"\"\"This method provides an easy way to traverse the chain to find out the balance of the given address.\n",
    "        Bitcoin doesn't necessarily work this way, but other chains do, and it works fine for our purposes. This\n",
    "        method will return the token balance of the given address, returning 0.0 if the address has never been\n",
    "        seen on the chain before.\"\"\"\n",
    "        \n",
    "        # TODO: start balance at 0 and cycle through all blocks and their transactions, looking for the given\n",
    "        # address and keeping track of the balance accordingly.    \n",
    "\n",
    "            "
   ]
  },
  {
   "cell_type": "markdown",
   "metadata": {},
   "source": [
    "Now we can try and create transactions and mine some blocks. First we need some RSA public keys to act as addresses and to allow for signing. We can use the included `rsa` module to create these for us. Due to the requirements of RSA signing with SHA-256, we will need at least 512-bit keys:"
   ]
  },
  {
   "cell_type": "code",
   "execution_count": null,
   "metadata": {},
   "outputs": [],
   "source": [
    "public_key, private_key = rsa.newkeys(512)\n",
    "receiving_public_key, receiving_private_key = rsa.newkeys(512)"
   ]
  },
  {
   "cell_type": "markdown",
   "metadata": {},
   "source": [
    "Now we can use our public and private keys to make our first transaction:"
   ]
  },
  {
   "cell_type": "code",
   "execution_count": null,
   "metadata": {},
   "outputs": [],
   "source": [
    "t = Transaction(public_key, receiving_public_key, 0.5)\n",
    "t.sign(private_key)"
   ]
  },
  {
   "cell_type": "markdown",
   "metadata": {},
   "source": [
    "Let's make another one. It's easy!"
   ]
  },
  {
   "cell_type": "code",
   "execution_count": null,
   "metadata": {},
   "outputs": [],
   "source": []
  },
  {
   "cell_type": "markdown",
   "metadata": {},
   "source": [
    "What happens if we try to create a transaction to take tokens from an address for which we don't have the private key?"
   ]
  },
  {
   "cell_type": "code",
   "execution_count": null,
   "metadata": {},
   "outputs": [],
   "source": []
  },
  {
   "cell_type": "markdown",
   "metadata": {},
   "source": [
    "Now we are ready to submit our transactions to a blockchain node. Let's create one:"
   ]
  },
  {
   "cell_type": "code",
   "execution_count": null,
   "metadata": {},
   "outputs": [],
   "source": []
  },
  {
   "cell_type": "markdown",
   "metadata": {},
   "source": [
    "The transaction will not be included in the blockchain until a block is mined:"
   ]
  },
  {
   "cell_type": "code",
   "execution_count": null,
   "metadata": {},
   "outputs": [],
   "source": []
  },
  {
   "cell_type": "markdown",
   "metadata": {},
   "source": [
    "We can test our implementation, and validate the integrity of the chain, by using the `validate_chain()` method:"
   ]
  },
  {
   "cell_type": "code",
   "execution_count": null,
   "metadata": {},
   "outputs": [],
   "source": []
  },
  {
   "cell_type": "markdown",
   "metadata": {},
   "source": [
    "Let's try to hack the chain by changing the value of a transaction...the immutability and validity of transactions should be violated and the validation should fail!"
   ]
  },
  {
   "cell_type": "code",
   "execution_count": null,
   "metadata": {},
   "outputs": [],
   "source": []
  },
  {
   "cell_type": "markdown",
   "metadata": {},
   "source": [
    "Restoring the transaction back to its original state will allow the chain to be valid again:"
   ]
  },
  {
   "cell_type": "code",
   "execution_count": null,
   "metadata": {},
   "outputs": [],
   "source": []
  }
 ],
 "metadata": {
  "kernelspec": {
   "display_name": "Python 3",
   "language": "python",
   "name": "python3"
  },
  "language_info": {
   "codemirror_mode": {
    "name": "ipython",
    "version": 3
   },
   "file_extension": ".py",
   "mimetype": "text/x-python",
   "name": "python",
   "nbconvert_exporter": "python",
   "pygments_lexer": "ipython3",
   "version": "3.7.0"
  }
 },
 "nbformat": 4,
 "nbformat_minor": 2
}
